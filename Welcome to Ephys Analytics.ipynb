{
 "cells": [
  {
   "cell_type": "markdown",
   "metadata": {
    "cell_style": "center"
   },
   "source": [
    "<i><font size=7 color=\"orchid\">Ephys Analyzer</font></i> "
   ]
  },
  {
   "cell_type": "markdown",
   "metadata": {
    "cell_style": "split"
   },
   "source": [
    "Welcome to the **Analyzing Spikes interface**! Here you will be able to access the <font color='red'>necessary files</font> and be able to <font color='red'>analyze the data</font> from specific experiments by plotting them on a graph."
   ]
  },
  {
   "cell_type": "markdown",
   "metadata": {
    "cell_style": "split"
   },
   "source": [
    "<div style=\"text-align:right\"><font size=7 color=\"orchid\" face='Brush Script MT'> to Start, Click - <button class=\"btn btn-sm btn-success\"><i class=\"fa fa-lg fa-id-card-o\">"
   ]
  },
  {
   "cell_type": "code",
   "execution_count": null,
   "metadata": {},
   "outputs": [],
   "source": [
    "run 'GetData'.ipynb"
   ]
  },
  {
   "cell_type": "code",
   "execution_count": null,
   "metadata": {},
   "outputs": [],
   "source": [
    "run 'plotGraph'.ipynb"
   ]
  },
  {
   "cell_type": "code",
   "execution_count": null,
   "metadata": {},
   "outputs": [],
   "source": [
    "%run Spikesort_Interface_Source_Code.ipynb"
   ]
  },
  {
   "cell_type": "code",
   "execution_count": null,
   "metadata": {},
   "outputs": [],
   "source": [
    "import warnings\n",
    "warnings.filterwarnings(\"ignore\")"
   ]
  },
  {
   "cell_type": "markdown",
   "metadata": {},
   "source": [
    "# Get Data"
   ]
  },
  {
   "cell_type": "markdown",
   "metadata": {},
   "source": [
    "The **GetData interface** allows you to <font color='blue'>choose an experiment</font> within a file and provide you with the data from that experiment. \n",
    "\n",
    "You can test the function with the `2020-11-05-e-UCSF-axionplate` dataset. <font color='red'>Wait until displayed Finished before plotting.</font>"
   ]
  },
  {
   "cell_type": "code",
   "execution_count": null,
   "metadata": {},
   "outputs": [],
   "source": [
    "getData"
   ]
  },
  {
   "cell_type": "markdown",
   "metadata": {},
   "source": [
    "# Plot Data"
   ]
  },
  {
   "cell_type": "markdown",
   "metadata": {},
   "source": [
    "The **Plot interface** allows you to <font color='blue'>use the data</font> that you recieved and  <font color='blue'>plot points</font> at a specified interval and number of channels to your choice, using **matplot**. \n",
    "\n",
    "To select specific different channels use <font color='blue'>shift and/or ctrl (or command)</font> **and** <font color='blue'>mouse clicks</font> or arrow keys."
   ]
  },
  {
   "cell_type": "code",
   "execution_count": null,
   "metadata": {},
   "outputs": [],
   "source": [
    "makePlot"
   ]
  },
  {
   "cell_type": "markdown",
   "metadata": {},
   "source": [
    "# Spikesorting"
   ]
  },
  {
   "cell_type": "markdown",
   "metadata": {},
   "source": [
    "## Run Spikesort Algorithm"
   ]
  },
  {
   "cell_type": "markdown",
   "metadata": {},
   "source": [
    "We will use the spikesorting package, <font color='blue'>SpikeInterface</font>, to sort recorded neural data. This process finds <font color='blue'>neurons localized in the cells of the organoids</font>. The 2 spikesorters, <font color='magenta'>MountainSort4 and Spyking Circus</font>, are supported by the sorting ensemble in the spikeinterface."
   ]
  },
  {
   "cell_type": "markdown",
   "metadata": {},
   "source": [
    "<font color='blue'> Click on the button </font>  to select a <font color='blue'>spiksorter</font>. This may take a few minutes to run depending on the <font color='blue'> recording length </font> and the <font color='blue'> number of channels. </font>"
   ]
  },
  {
   "cell_type": "code",
   "execution_count": null,
   "metadata": {},
   "outputs": [],
   "source": [
    "SpikeSorter.Spike_Widget_Box "
   ]
  },
  {
   "cell_type": "code",
   "execution_count": null,
   "metadata": {},
   "outputs": [],
   "source": [
    "#recording"
   ]
  },
  {
   "cell_type": "markdown",
   "metadata": {},
   "source": [
    "## Spikesorting Graphs"
   ]
  },
  {
   "cell_type": "markdown",
   "metadata": {},
   "source": [
    "<font color='red'> RUN THE SPIKESORTER BEFORE RUNNING THE BUTTONS IN THIS SECTION</font>\n",
    "\n",
    "<font color='red'> Select a button </font> for the type of graph you would like to see, and press run:"
   ]
  },
  {
   "cell_type": "code",
   "execution_count": null,
   "metadata": {},
   "outputs": [],
   "source": [
    "Graph_Button"
   ]
  },
  {
   "cell_type": "markdown",
   "metadata": {},
   "source": [
    "## Waveform Graph"
   ]
  },
  {
   "cell_type": "markdown",
   "metadata": {},
   "source": [
    "<font color='red'> THIS STEP CAN BE DONE AFTER THE SORTING </font>\n",
    "\n",
    "The <font color='magenta'>Waveform graphs</font> are the <font color='blue'>average waveforms</font> of a <font color='blue'>putative action potential</font>. Each graph represents one <font color='blue'>putative neuron</font>, and the <font color='blue'>average signal</font> from each time the neuron fired. Each horizontal line represents the <font color='blue'>voltage</font> measured at a <font color='blue'>distinct channel</font>.\n",
    "\n",
    "<font color='blue'>Run the 2 cells</font> below and <font color='blue'>select the button</font> to get a slider. Move the <font color='blue'>slider</font> to select a unit of data to analyze the <font color='blue'>waveform</font> of. Then, click the <font color='blue'>plot button</font> to generate a <font color='magenta'>waveform graph</font> for a particular unit of data.\n"
   ]
  },
  {
   "cell_type": "code",
   "execution_count": null,
   "metadata": {},
   "outputs": [],
   "source": [
    "wave_btn_start"
   ]
  },
  {
   "cell_type": "markdown",
   "metadata": {},
   "source": [
    "## Spike Detection Graphs"
   ]
  },
  {
   "cell_type": "markdown",
   "metadata": {},
   "source": [
    "<font color='red'> THIS STEP CAN BE DONE AFTER THE SORTING </font>\n",
    "\n",
    "<font color='magenta'>Spike detection graphs</font> are the <font color='blue'>waveforms</font> for each channel plotted to look for spikes across all the <font color='blue'>channels</font>\n",
    "\n",
    "<font color='blue'>Run the 2 cells</font> below and <font color='blue'>select the button</font> to see the <font color='magenta'>spike detection graphs</font> of the data collected."
   ]
  },
  {
   "cell_type": "code",
   "execution_count": null,
   "metadata": {},
   "outputs": [],
   "source": [
    "Spike_Detection_Button"
   ]
  },
  {
   "cell_type": "markdown",
   "metadata": {},
   "source": [
    "## Clean Up Spikesorter"
   ]
  },
  {
   "cell_type": "markdown",
   "metadata": {},
   "source": [
    "<font color=\"red\">THIS IS A REALLY IMPORTANT STEP</font>"
   ]
  },
  {
   "cell_type": "markdown",
   "metadata": {},
   "source": [
    "The <font color=\"blue\"> clean button</font> has been created."
   ]
  },
  {
   "cell_type": "markdown",
   "metadata": {},
   "source": [
    "To do <font color=\"blue\">spikesorting</font> we use docker. <font color=\"blue\">Docker</font> takes up considerable <font color=\"blue\">computer memory</font>  because it creates <font color=\"blue\">containers</font> to run the <font color=\"magenta\">spikesorters</font>."
   ]
  },
  {
   "cell_type": "markdown",
   "metadata": {},
   "source": [
    "<font color='blue'>Run the 2 cells</font> and <font color='blue'>select the button</font> to <font color='blue'>remove containers</font> and clean the computer."
   ]
  },
  {
   "cell_type": "code",
   "execution_count": null,
   "metadata": {},
   "outputs": [],
   "source": [
    "Clean_Button"
   ]
  },
  {
   "cell_type": "code",
   "execution_count": null,
   "metadata": {},
   "outputs": [],
   "source": []
  }
 ],
 "metadata": {
  "hide_input": false,
  "kernelspec": {
   "display_name": "Python 3",
   "language": "python",
   "name": "python3"
  },
  "language_info": {
   "codemirror_mode": {
    "name": "ipython",
    "version": 3
   },
   "file_extension": ".py",
   "mimetype": "text/x-python",
   "name": "python",
   "nbconvert_exporter": "python",
   "pygments_lexer": "ipython3",
   "version": "3.8.8"
  },
  "toc": {
   "base_numbering": 1,
   "nav_menu": {},
   "number_sections": true,
   "sideBar": true,
   "skip_h1_title": false,
   "title_cell": "Table of Contents",
   "title_sidebar": "Contents",
   "toc_cell": false,
   "toc_position": {},
   "toc_section_display": true,
   "toc_window_display": false
  },
  "varInspector": {
   "cols": {
    "lenName": 16,
    "lenType": 16,
    "lenVar": 40
   },
   "kernels_config": {
    "python": {
     "delete_cmd_postfix": "",
     "delete_cmd_prefix": "del ",
     "library": "var_list.py",
     "varRefreshCmd": "print(var_dic_list())"
    },
    "r": {
     "delete_cmd_postfix": ") ",
     "delete_cmd_prefix": "rm(",
     "library": "var_list.r",
     "varRefreshCmd": "cat(var_dic_list()) "
    }
   },
   "types_to_exclude": [
    "module",
    "function",
    "builtin_function_or_method",
    "instance",
    "_Feature"
   ],
   "window_display": false
  }
 },
 "nbformat": 4,
 "nbformat_minor": 4
}
