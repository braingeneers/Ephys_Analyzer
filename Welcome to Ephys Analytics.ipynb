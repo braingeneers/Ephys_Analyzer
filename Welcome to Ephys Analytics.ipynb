{
 "cells": [
  {
   "cell_type": "markdown",
   "metadata": {
    "cell_style": "center"
   },
   "source": [
    "<i><font size=7 color=\"orchid\">Ephys Analyzer</font></i> "
   ]
  },
  {
   "cell_type": "markdown",
   "metadata": {
    "cell_style": "split"
   },
   "source": [
    "Welcome to the **Analyzing Spikes interface**! Here you will be able to access the <font color='red'>necessary files</font> and be able to <font color='red'>analyze the data</font> from specific experiments by plotting them on a graph."
   ]
  },
  {
   "cell_type": "markdown",
   "metadata": {
    "cell_style": "split"
   },
   "source": [
    "<div style=\"text-align:right\"><font size=7 color=\"orchid\" face='Brush Script MT'> to Start, Click - <button class=\"btn btn-sm btn-success\"><i class=\"fa fa-lg fa-id-card-o\">"
   ]
  },
  {
   "cell_type": "code",
   "execution_count": null,
   "metadata": {},
   "outputs": [],
   "source": [
    "run 'GetData'.ipynb"
   ]
  },
  {
   "cell_type": "code",
   "execution_count": null,
   "metadata": {},
   "outputs": [],
   "source": [
    "run 'plotGraph'.ipynb"
   ]
  },
  {
   "cell_type": "code",
   "execution_count": null,
   "metadata": {},
   "outputs": [],
   "source": [
    "%run Spikesort_Interface_Source_Code.ipynb"
   ]
  },
  {
   "cell_type": "code",
   "execution_count": null,
   "metadata": {},
   "outputs": [],
   "source": [
    "import warnings\n",
    "warnings.filterwarnings(\"ignore\")"
   ]
  },
  {
   "cell_type": "markdown",
   "metadata": {},
   "source": [
    "# Get Data"
   ]
  },
  {
   "cell_type": "markdown",
   "metadata": {},
   "source": [
    "The **GetData interface** allows you to <font color='blue'>choose an experiment</font> within a file and provide you with the data from that experiment. \n",
    "\n",
    "You can test the function with the `2020-11-05-e-UCSF-axionplate` dataset. <font color='red'>Wait until displayed Finished before plotting.</font>"
   ]
  },
  {
   "cell_type": "code",
   "execution_count": null,
   "metadata": {},
   "outputs": [],
   "source": [
    "getData"
   ]
  },
  {
   "cell_type": "markdown",
   "metadata": {},
   "source": [
    "# Plot Data"
   ]
  },
  {
   "cell_type": "markdown",
   "metadata": {},
   "source": [
    "The **Plot interface** allows you to <font color='blue'>use the data</font> that you recieved and  <font color='blue'>plot points</font> at a specified interval and number of channels to your choice, using **matplot**. \n",
    "\n",
    "To select specific different channels use <font color='blue'>shift and/or ctrl (or command)</font> **and** <font color='blue'>mouse clicks</font> or arrow keys."
   ]
  },
  {
   "cell_type": "code",
   "execution_count": null,
   "metadata": {
    "scrolled": false
   },
   "outputs": [],
   "source": [
    "makePlot"
   ]
  },
  {
   "cell_type": "markdown",
   "metadata": {},
   "source": [
    "# Spikesorting"
   ]
  },
  {
   "cell_type": "markdown",
   "metadata": {},
   "source": [
    "## Run Spikesort Algorithm"
   ]
  },
  {
   "cell_type": "markdown",
   "metadata": {},
   "source": [
    "We will use the spikesorting package, <font color='blue'>SpikeInterface</font>, to sort recorded neural data. This process finds <font color='blue'>neurons localized in the cells of the organoids</font>. The 2 spikesorters, <font color='magenta'>MountainSort4 and Spyking Circus</font>, are supported by the sorting ensemble in the spikeinterface."
   ]
  },
  {
   "cell_type": "markdown",
   "metadata": {},
   "source": [
    "<font color='blue'> Click on the button </font>  to select a <font color='blue'>spiksorter</font>. This may take a few minutes to run depending on the <font color='blue'> recording length </font> and the <font color='blue'> number of channels. </font>"
   ]
  },
  {
   "cell_type": "code",
   "execution_count": null,
   "metadata": {},
   "outputs": [],
   "source": [
    "SpikeSorter.Spike_Widget_Box "
   ]
  },
  {
   "cell_type": "code",
   "execution_count": null,
   "metadata": {},
   "outputs": [],
   "source": [
    "#recording"
   ]
  },
  {
   "cell_type": "markdown",
   "metadata": {},
   "source": [
    "## Spikesorting Graphs"
   ]
  },
  {
   "cell_type": "markdown",
   "metadata": {},
   "source": [
    "<font color='red'> RUN THE SPIKESORTER BEFORE RUNNING THE BUTTONS IN THIS SECTION</font>\n",
    "\n",
    "<font color='red'> Select a button </font> for the type of graph you would like to see, and press run:"
   ]
  },
  {
   "cell_type": "code",
   "execution_count": null,
   "metadata": {},
   "outputs": [],
   "source": [
    "Graph_Button"
   ]
  },
  {
   "cell_type": "markdown",
   "metadata": {},
   "source": [
    "## Waveform Graph"
   ]
  },
  {
   "cell_type": "markdown",
   "metadata": {},
   "source": [
    "<font color='red'> THIS STEP CAN BE DONE AFTER THE SORTING </font>\n",
    "\n",
    "The <font color='magenta'>Waveform graphs</font> are the <font color='blue'>average waveforms</font> of a <font color='blue'>putative action potential</font>. Each graph represents one <font color='blue'>putative neuron</font>, and the <font color='blue'>average signal</font> from each time the neuron fired. Each horizontal line represents the <font color='blue'>voltage</font> measured at a <font color='blue'>distinct channel</font>.\n",
    "\n",
    "<font color='blue'>Run the 2 cells</font> below and <font color='blue'>select the button</font> to get a slider. Move the <font color='blue'>slider</font> to select a unit of data to analyze the <font color='blue'>waveform</font> of. Then, click the <font color='blue'>plot button</font> to generate a <font color='magenta'>waveform graph</font> for a particular unit of data.\n"
   ]
  },
  {
   "cell_type": "code",
   "execution_count": null,
   "metadata": {},
   "outputs": [],
   "source": [
    "wave_btn_start"
   ]
  },
  {
   "cell_type": "markdown",
   "metadata": {},
   "source": [
    "## Spike Detection Graphs\n",
    "\n",
    "<font color='red'> THIS STEP CAN BE DONE AFTER THE SORTING </font>\n",
    "\n",
    "<font color='magenta'>Spike detection graphs</font> are the <font color='blue'>waveforms</font> for each channel plotted to look for spikes across all the <font color='blue'>channels</font>\n",
    "\n",
    "<font color='blue'>Run the 2 cells</font> below and <font color='blue'>select the button</font> to see the <font color='magenta'>spike detection graphs</font> of the data collected.\n"
   ]
  },
  {
   "cell_type": "code",
   "execution_count": null,
   "metadata": {
    "scrolled": false
   },
   "outputs": [],
   "source": [
    "Spike_Detection_Button"
   ]
  },
  {
   "cell_type": "markdown",
   "metadata": {},
   "source": [
    "## Clean Up Spikesorter"
   ]
  },
  {
   "cell_type": "markdown",
   "metadata": {},
   "source": [
    "<font color=\"red\">THIS IS A REALLY IMPORTANT STEP</font>"
   ]
  },
  {
   "cell_type": "markdown",
   "metadata": {},
   "source": [
    "The <font color=\"blue\"> clean button</font> has been created."
   ]
  },
  {
   "cell_type": "markdown",
   "metadata": {},
   "source": [
    "To do <font color=\"blue\">spikesorting</font> we use docker. <font color=\"blue\">Docker</font> takes up considerable <font color=\"blue\">computer memory</font>  because it creates <font color=\"blue\">containers</font> to run the <font color=\"magenta\">spikesorters</font>."
   ]
  },
  {
   "cell_type": "markdown",
   "metadata": {},
   "source": [
    "<font color='blue'>Run the 2 cells</font> and <font color='blue'>select the button</font> to <font color='blue'>remove containers</font> and clean the computer."
   ]
  },
  {
   "cell_type": "code",
   "execution_count": null,
   "metadata": {},
   "outputs": [],
   "source": [
    "Clean_Button"
   ]
  },
  {
   "cell_type": "code",
   "execution_count": null,
   "metadata": {},
   "outputs": [],
   "source": []
  }
 ],
 "metadata": {
  "hide_input": false,
  "kernelspec": {
   "display_name": "Python 3",
   "language": "python",
   "name": "python3"
  },
  "language_info": {
   "codemirror_mode": {
    "name": "ipython",
    "version": 3
   },
   "file_extension": ".py",
   "mimetype": "text/x-python",
   "name": "python",
   "nbconvert_exporter": "python",
   "pygments_lexer": "ipython3",
   "version": "3.8.8"
  },
  "toc": {
   "base_numbering": 1,
   "nav_menu": {},
   "number_sections": true,
   "sideBar": true,
   "skip_h1_title": false,
   "title_cell": "Table of Contents",
   "title_sidebar": "Contents",
   "toc_cell": false,
   "toc_position": {},
   "toc_section_display": true,
   "toc_window_display": false
  },
  "varInspector": {
   "cols": {
    "lenName": 16,
    "lenType": 16,
    "lenVar": 40
   },
   "kernels_config": {
    "python": {
     "delete_cmd_postfix": "",
     "delete_cmd_prefix": "del ",
     "library": "var_list.py",
     "varRefreshCmd": "print(var_dic_list())"
    },
    "r": {
     "delete_cmd_postfix": ") ",
     "delete_cmd_prefix": "rm(",
     "library": "var_list.r",
     "varRefreshCmd": "cat(var_dic_list()) "
    }
   },
   "types_to_exclude": [
    "module",
    "function",
    "builtin_function_or_method",
    "instance",
    "_Feature"
   ],
   "window_display": false
  },
  "widgets": {
   "application/vnd.jupyter.widget-state+json": {
    "state": {
     "02e26e4963144a159300da4a6068ad73": {
      "model_module": "@jupyter-widgets/controls",
      "model_module_version": "1.5.0",
      "model_name": "ButtonModel",
      "state": {
       "button_style": "info",
       "description": "Run",
       "layout": "IPY_MODEL_d1ea293e560f475cb6ec61a240a62ed0",
       "style": "IPY_MODEL_a55a2be11cfa4cacb3a5649ff139226c"
      }
     },
     "0443053cf80e4af3b20f115f1a3ecc1c": {
      "model_module": "@jupyter-widgets/controls",
      "model_module_version": "1.5.0",
      "model_name": "ButtonModel",
      "state": {
       "button_style": "danger",
       "description": "CLEAN",
       "layout": "IPY_MODEL_f65d1465b9424c00b9d53981431a42d7",
       "style": "IPY_MODEL_d537b43c8925431ebbbf3870df4d2ca2"
      }
     },
     "082b1c51cc35452ea001151a3b316d86": {
      "model_module": "@jupyter-widgets/controls",
      "model_module_version": "1.5.0",
      "model_name": "ToggleButtonsModel",
      "state": {
       "_options_labels": [
        "time series",
        "spectral power",
        "spike rasters",
        "interspike intervals",
        "autocorrelation",
        "cross-correlation",
        "amplitude distribution",
        "amplitude time series"
       ],
       "button_style": "",
       "icons": [],
       "index": 0,
       "layout": "IPY_MODEL_0fb30e76af1c43aa8254536200e133f7",
       "style": "IPY_MODEL_297750ed13a24cabbcddfcf2b898b716",
       "tooltips": []
      }
     },
     "0d2e2647344c48cc93c20d06228c2875": {
      "model_module": "@jupyter-widgets/base",
      "model_module_version": "1.2.0",
      "model_name": "LayoutModel",
      "state": {}
     },
     "0fb30e76af1c43aa8254536200e133f7": {
      "model_module": "@jupyter-widgets/base",
      "model_module_version": "1.2.0",
      "model_name": "LayoutModel",
      "state": {}
     },
     "0fd82c6ed623450facdc246110eb5ab9": {
      "model_module": "@jupyter-widgets/base",
      "model_module_version": "1.2.0",
      "model_name": "LayoutModel",
      "state": {}
     },
     "0fe3ad47337a45409c6e53bf6ef42040": {
      "model_module": "@jupyter-widgets/controls",
      "model_module_version": "1.5.0",
      "model_name": "ValidModel",
      "state": {
       "layout": "IPY_MODEL_bde43d80687f4a75938d84450ef0da0e",
       "style": "IPY_MODEL_baa38ffb91714eeca91ba3a99514a3a2",
       "value": true
      }
     },
     "12a5207b4e234129b0cc0f354137ccc7": {
      "model_module": "@jupyter-widgets/controls",
      "model_module_version": "1.5.0",
      "model_name": "ButtonStyleModel",
      "state": {}
     },
     "139e82aaa0024907ab689a0c00711b1a": {
      "model_module": "@jupyter-widgets/controls",
      "model_module_version": "1.5.0",
      "model_name": "ToggleButtonsStyleModel",
      "state": {
       "button_width": "",
       "description_width": ""
      }
     },
     "180ca7033f774b38819c2646a2ebdfe6": {
      "model_module": "@jupyter-widgets/controls",
      "model_module_version": "1.5.0",
      "model_name": "ButtonModel",
      "state": {
       "button_style": "info",
       "description": "Spike Detection",
       "layout": "IPY_MODEL_6f85dbf28cfb4e9680091ee54866661c",
       "style": "IPY_MODEL_f7b56838d233471b85474347ce8f4ddd"
      }
     },
     "2118a4bc2fdf434a8630a80baf0ec02d": {
      "model_module": "@jupyter-widgets/controls",
      "model_module_version": "1.5.0",
      "model_name": "VBoxModel",
      "state": {
       "children": [
        "IPY_MODEL_e8b08979e390435e809a75bed86ebf10",
        "IPY_MODEL_da6fcc9bedaf44ff87f8b74f2c1211d1",
        "IPY_MODEL_fa5a2a3893a74e8a9bd86b7e095f34b1"
       ],
       "layout": "IPY_MODEL_0d2e2647344c48cc93c20d06228c2875"
      }
     },
     "21de09d33f57432e9d3cd0d58aa942a6": {
      "model_module": "@jupyter-widgets/controls",
      "model_module_version": "1.5.0",
      "model_name": "DescriptionStyleModel",
      "state": {
       "description_width": ""
      }
     },
     "21e49364c9224ff0a5cbd1104995d60e": {
      "model_module": "@jupyter-widgets/controls",
      "model_module_version": "1.5.0",
      "model_name": "ButtonStyleModel",
      "state": {}
     },
     "24ecc37a1aea4cf8a77bcf9d677816cc": {
      "model_module": "@jupyter-widgets/base",
      "model_module_version": "1.2.0",
      "model_name": "LayoutModel",
      "state": {}
     },
     "255c8f5d53aa462f8fc1e3413a375905": {
      "model_module": "@jupyter-widgets/controls",
      "model_module_version": "1.5.0",
      "model_name": "ButtonModel",
      "state": {
       "description": "Plot",
       "layout": "IPY_MODEL_8b6dd159563144b59a0a4dcfef82cbd5",
       "style": "IPY_MODEL_bcf780f12fde466b94e148ec9e4e00e4"
      }
     },
     "297750ed13a24cabbcddfcf2b898b716": {
      "model_module": "@jupyter-widgets/controls",
      "model_module_version": "1.5.0",
      "model_name": "ToggleButtonsStyleModel",
      "state": {
       "button_width": "",
       "description_width": ""
      }
     },
     "2b27e77e52134cbfbcd8a6017643096a": {
      "model_module": "@jupyter-widgets/controls",
      "model_module_version": "1.5.0",
      "model_name": "ButtonStyleModel",
      "state": {}
     },
     "2d55f7c45c57403b95b4b3d2ea68c7e1": {
      "model_module": "@jupyter-widgets/base",
      "model_module_version": "1.2.0",
      "model_name": "LayoutModel",
      "state": {}
     },
     "31b1504498214a7fb285676594e878ce": {
      "model_module": "@jupyter-widgets/base",
      "model_module_version": "1.2.0",
      "model_name": "LayoutModel",
      "state": {}
     },
     "33e86c303ef043f79515d2975dbebbb8": {
      "model_module": "@jupyter-widgets/controls",
      "model_module_version": "1.5.0",
      "model_name": "VBoxModel",
      "state": {
       "children": [
        "IPY_MODEL_6f3492d370dd4a08b269124894a6cbed",
        "IPY_MODEL_621f3d87d5fb4ff68b87f2f943c85ded",
        "IPY_MODEL_7bd9304c166e4462a43c1167093829d8"
       ],
       "layout": "IPY_MODEL_f89f6933d5384396b80f5f93fd13c3da"
      }
     },
     "35408b9143414ff288e799cce07f627b": {
      "model_module": "@jupyter-widgets/base",
      "model_module_version": "1.2.0",
      "model_name": "LayoutModel",
      "state": {}
     },
     "3f92c2cd4abb49a39bd0d974c7c68ce3": {
      "model_module": "@jupyter-widgets/base",
      "model_module_version": "1.2.0",
      "model_name": "LayoutModel",
      "state": {}
     },
     "44aca5f160df404592360e12687feac2": {
      "model_module": "@jupyter-widgets/base",
      "model_module_version": "1.2.0",
      "model_name": "LayoutModel",
      "state": {}
     },
     "4dd9639ad5034d39b597f0b70c993601": {
      "model_module": "@jupyter-widgets/controls",
      "model_module_version": "1.5.0",
      "model_name": "HBoxModel",
      "state": {
       "children": [
        "IPY_MODEL_8d41d30373754eb8b6c30ddba4b8827b",
        "IPY_MODEL_990f0b00503a45bcae5f0a1b5fa1bbd2"
       ],
       "layout": "IPY_MODEL_718b1313096241fb905dee4c1c893033"
      }
     },
     "539034dad31646bdaab77f7465e36f79": {
      "model_module": "@jupyter-widgets/controls",
      "model_module_version": "1.5.0",
      "model_name": "VBoxModel",
      "state": {
       "children": [
        "IPY_MODEL_f766bd8f81ae4adf86d54ecc878ca216",
        "IPY_MODEL_f12475f4eb104117a8d19b81865ebb6b",
        "IPY_MODEL_4dd9639ad5034d39b597f0b70c993601"
       ],
       "layout": "IPY_MODEL_9fe3b9e6cbaf4f2baa58c1d88e245120"
      }
     },
     "53f8686cf73242b484a1c02168d6e7ca": {
      "model_module": "@jupyter-widgets/controls",
      "model_module_version": "1.5.0",
      "model_name": "ButtonModel",
      "state": {
       "description": "Start",
       "layout": "IPY_MODEL_2d55f7c45c57403b95b4b3d2ea68c7e1",
       "style": "IPY_MODEL_2b27e77e52134cbfbcd8a6017643096a"
      }
     },
     "621f3d87d5fb4ff68b87f2f943c85ded": {
      "model_module": "@jupyter-widgets/controls",
      "model_module_version": "1.5.0",
      "model_name": "SelectMultipleModel",
      "state": {
       "_options_labels": [
        "1",
        "2",
        "3",
        "4",
        "5",
        "6",
        "7",
        "8",
        "9",
        "10",
        "11",
        "12",
        "13",
        "14",
        "15",
        "16",
        "17",
        "18",
        "19",
        "20",
        "21",
        "22",
        "23",
        "24",
        "25",
        "26",
        "27",
        "28",
        "29",
        "30",
        "31",
        "32"
       ],
       "description": "Channels",
       "index": [
        0
       ],
       "layout": "IPY_MODEL_bbd9a0aeb269458c893f999891646057",
       "rows": 5,
       "style": "IPY_MODEL_aaeff18ea2974083a4d1bcbc327943d6"
      }
     },
     "671911a160ee455fafca78cbda62ba1e": {
      "model_module": "@jupyter-widgets/base",
      "model_module_version": "1.2.0",
      "model_name": "LayoutModel",
      "state": {
       "width": "auto"
      }
     },
     "6c3ba74e41b446adb0e8076795381fbd": {
      "model_module": "@jupyter-widgets/base",
      "model_module_version": "1.2.0",
      "model_name": "LayoutModel",
      "state": {}
     },
     "6dc5c66c58534c02af099bbfdde200e1": {
      "model_module": "@jupyter-widgets/controls",
      "model_module_version": "1.5.0",
      "model_name": "DescriptionStyleModel",
      "state": {
       "description_width": ""
      }
     },
     "6f3492d370dd4a08b269124894a6cbed": {
      "model_module": "@jupyter-widgets/controls",
      "model_module_version": "1.5.0",
      "model_name": "IntRangeSliderModel",
      "state": {
       "_model_name": "IntRangeSliderModel",
       "_view_name": "IntRangeSliderView",
       "description": "Time Interval",
       "layout": "IPY_MODEL_6c3ba74e41b446adb0e8076795381fbd",
       "max": 1000000,
       "style": "IPY_MODEL_893dd751adc34dc696fac5ab598cf885",
       "value": [
        250000,
        750000
       ]
      }
     },
     "6f85dbf28cfb4e9680091ee54866661c": {
      "model_module": "@jupyter-widgets/base",
      "model_module_version": "1.2.0",
      "model_name": "LayoutModel",
      "state": {}
     },
     "718b1313096241fb905dee4c1c893033": {
      "model_module": "@jupyter-widgets/base",
      "model_module_version": "1.2.0",
      "model_name": "LayoutModel",
      "state": {}
     },
     "78040f46d9064ebb90201fb437c4fa1a": {
      "model_module": "@jupyter-widgets/base",
      "model_module_version": "1.2.0",
      "model_name": "LayoutModel",
      "state": {}
     },
     "7a31153c1bd644e58ccd5262c7d187a4": {
      "model_module": "@jupyter-widgets/controls",
      "model_module_version": "1.5.0",
      "model_name": "ToggleButtonsModel",
      "state": {
       "_options_labels": [
        "MountainSort4",
        "SpykingCircus"
       ],
       "button_style": "",
       "icons": [],
       "index": 0,
       "layout": "IPY_MODEL_9adec664c8d948008d04627b0db98112",
       "style": "IPY_MODEL_139e82aaa0024907ab689a0c00711b1a",
       "tooltips": []
      }
     },
     "7bd9304c166e4462a43c1167093829d8": {
      "model_module": "@jupyter-widgets/controls",
      "model_module_version": "1.5.0",
      "model_name": "HBoxModel",
      "state": {
       "children": [
        "IPY_MODEL_f7705f187011451892e31d067d6e6dcc",
        "IPY_MODEL_255c8f5d53aa462f8fc1e3413a375905",
        "IPY_MODEL_df40fae04c20495b91e8b7a1da1b991f"
       ],
       "layout": "IPY_MODEL_ddedbc69514841d5951c8e36d2fa6629"
      }
     },
     "80f6d5d782d145cda5693155a7f1f539": {
      "model_module": "@jupyter-widgets/base",
      "model_module_version": "1.2.0",
      "model_name": "LayoutModel",
      "state": {}
     },
     "893dd751adc34dc696fac5ab598cf885": {
      "model_module": "@jupyter-widgets/controls",
      "model_module_version": "1.5.0",
      "model_name": "SliderStyleModel",
      "state": {
       "description_width": ""
      }
     },
     "8b6dd159563144b59a0a4dcfef82cbd5": {
      "model_module": "@jupyter-widgets/base",
      "model_module_version": "1.2.0",
      "model_name": "LayoutModel",
      "state": {}
     },
     "8c300e2da91840a3a44551975cdd313c": {
      "model_module": "@jupyter-widgets/base",
      "model_module_version": "1.2.0",
      "model_name": "LayoutModel",
      "state": {
       "visibility": "hidden"
      }
     },
     "8d41d30373754eb8b6c30ddba4b8827b": {
      "model_module": "@jupyter-widgets/controls",
      "model_module_version": "1.5.0",
      "model_name": "ButtonModel",
      "state": {
       "description": "Get Data",
       "layout": "IPY_MODEL_78040f46d9064ebb90201fb437c4fa1a",
       "style": "IPY_MODEL_e8171d217cb340eb9fbf1f23418b905a"
      }
     },
     "8fd5864f58784c7f8684f08524fa79fa": {
      "model_module": "@jupyter-widgets/controls",
      "model_module_version": "1.5.0",
      "model_name": "DescriptionStyleModel",
      "state": {
       "description_width": ""
      }
     },
     "9854034ae0e340ddafb72e37a0e1475a": {
      "model_module": "@jupyter-widgets/controls",
      "model_module_version": "1.5.0",
      "model_name": "ButtonStyleModel",
      "state": {}
     },
     "990f0b00503a45bcae5f0a1b5fa1bbd2": {
      "model_module": "@jupyter-widgets/controls",
      "model_module_version": "1.5.0",
      "model_name": "ValidModel",
      "state": {
       "layout": "IPY_MODEL_8c300e2da91840a3a44551975cdd313c",
       "style": "IPY_MODEL_e89bc908dac0402781011131708cf65a",
       "value": true
      }
     },
     "991fbac979e142e7a095d09363812c58": {
      "model_module": "@jupyter-widgets/controls",
      "model_module_version": "1.5.0",
      "model_name": "VBoxModel",
      "state": {
       "children": [
        "IPY_MODEL_7a31153c1bd644e58ccd5262c7d187a4",
        "IPY_MODEL_02e26e4963144a159300da4a6068ad73"
       ],
       "layout": "IPY_MODEL_31b1504498214a7fb285676594e878ce"
      }
     },
     "9adec664c8d948008d04627b0db98112": {
      "model_module": "@jupyter-widgets/base",
      "model_module_version": "1.2.0",
      "model_name": "LayoutModel",
      "state": {}
     },
     "9dccfd86a7fd405aaa71a0b8db3f7757": {
      "model_module": "@jupyter-widgets/base",
      "model_module_version": "1.2.0",
      "model_name": "LayoutModel",
      "state": {
       "width": "auto"
      }
     },
     "9fe3b9e6cbaf4f2baa58c1d88e245120": {
      "model_module": "@jupyter-widgets/base",
      "model_module_version": "1.2.0",
      "model_name": "LayoutModel",
      "state": {}
     },
     "a55a2be11cfa4cacb3a5649ff139226c": {
      "model_module": "@jupyter-widgets/controls",
      "model_module_version": "1.5.0",
      "model_name": "ButtonStyleModel",
      "state": {}
     },
     "aaeff18ea2974083a4d1bcbc327943d6": {
      "model_module": "@jupyter-widgets/controls",
      "model_module_version": "1.5.0",
      "model_name": "DescriptionStyleModel",
      "state": {
       "description_width": ""
      }
     },
     "baa38ffb91714eeca91ba3a99514a3a2": {
      "model_module": "@jupyter-widgets/controls",
      "model_module_version": "1.5.0",
      "model_name": "DescriptionStyleModel",
      "state": {
       "description_width": ""
      }
     },
     "bbd9a0aeb269458c893f999891646057": {
      "model_module": "@jupyter-widgets/base",
      "model_module_version": "1.2.0",
      "model_name": "LayoutModel",
      "state": {}
     },
     "bcf780f12fde466b94e148ec9e4e00e4": {
      "model_module": "@jupyter-widgets/controls",
      "model_module_version": "1.5.0",
      "model_name": "ButtonStyleModel",
      "state": {}
     },
     "bde43d80687f4a75938d84450ef0da0e": {
      "model_module": "@jupyter-widgets/base",
      "model_module_version": "1.2.0",
      "model_name": "LayoutModel",
      "state": {
       "visibility": "hidden"
      }
     },
     "c02ec50ed0674836a065200d1b95253c": {
      "model_module": "@jupyter-widgets/controls",
      "model_module_version": "1.5.0",
      "model_name": "ButtonModel",
      "state": {
       "description": "Get Data",
       "layout": "IPY_MODEL_cdbe712190cd4d319deeba29a45883dc",
       "style": "IPY_MODEL_9854034ae0e340ddafb72e37a0e1475a"
      }
     },
     "cdbe712190cd4d319deeba29a45883dc": {
      "model_module": "@jupyter-widgets/base",
      "model_module_version": "1.2.0",
      "model_name": "LayoutModel",
      "state": {}
     },
     "cebed48601cd4f35bd936a12416784c3": {
      "model_module": "@jupyter-widgets/controls",
      "model_module_version": "1.5.0",
      "model_name": "VBoxModel",
      "state": {
       "children": [
        "IPY_MODEL_991fbac979e142e7a095d09363812c58"
       ],
       "layout": "IPY_MODEL_24ecc37a1aea4cf8a77bcf9d677816cc"
      }
     },
     "d1ea293e560f475cb6ec61a240a62ed0": {
      "model_module": "@jupyter-widgets/base",
      "model_module_version": "1.2.0",
      "model_name": "LayoutModel",
      "state": {}
     },
     "d537b43c8925431ebbbf3870df4d2ca2": {
      "model_module": "@jupyter-widgets/controls",
      "model_module_version": "1.5.0",
      "model_name": "ButtonStyleModel",
      "state": {}
     },
     "da6fcc9bedaf44ff87f8b74f2c1211d1": {
      "model_module": "@jupyter-widgets/controls",
      "model_module_version": "1.5.0",
      "model_name": "BoundedIntTextModel",
      "state": {
       "description": "Experiment:",
       "layout": "IPY_MODEL_0fd82c6ed623450facdc246110eb5ab9",
       "style": "IPY_MODEL_21de09d33f57432e9d3cd0d58aa942a6"
      }
     },
     "ddedbc69514841d5951c8e36d2fa6629": {
      "model_module": "@jupyter-widgets/base",
      "model_module_version": "1.2.0",
      "model_name": "LayoutModel",
      "state": {}
     },
     "df40fae04c20495b91e8b7a1da1b991f": {
      "model_module": "@jupyter-widgets/controls",
      "model_module_version": "1.5.0",
      "model_name": "ButtonModel",
      "state": {
       "icon": "arrow-right",
       "layout": "IPY_MODEL_9dccfd86a7fd405aaa71a0b8db3f7757",
       "style": "IPY_MODEL_12a5207b4e234129b0cc0f354137ccc7"
      }
     },
     "e254d959c44949c086a601ca823d850d": {
      "model_module": "@jupyter-widgets/controls",
      "model_module_version": "1.5.0",
      "model_name": "DescriptionStyleModel",
      "state": {
       "description_width": ""
      }
     },
     "e8171d217cb340eb9fbf1f23418b905a": {
      "model_module": "@jupyter-widgets/controls",
      "model_module_version": "1.5.0",
      "model_name": "ButtonStyleModel",
      "state": {}
     },
     "e89bc908dac0402781011131708cf65a": {
      "model_module": "@jupyter-widgets/controls",
      "model_module_version": "1.5.0",
      "model_name": "DescriptionStyleModel",
      "state": {
       "description_width": ""
      }
     },
     "e8b08979e390435e809a75bed86ebf10": {
      "model_module": "@jupyter-widgets/controls",
      "model_module_version": "1.5.0",
      "model_name": "TextModel",
      "state": {
       "description": "File name",
       "layout": "IPY_MODEL_35408b9143414ff288e799cce07f627b",
       "style": "IPY_MODEL_8fd5864f58784c7f8684f08524fa79fa"
      }
     },
     "f12475f4eb104117a8d19b81865ebb6b": {
      "model_module": "@jupyter-widgets/controls",
      "model_module_version": "1.5.0",
      "model_name": "BoundedIntTextModel",
      "state": {
       "description": "Experiment:",
       "layout": "IPY_MODEL_3f92c2cd4abb49a39bd0d974c7c68ce3",
       "style": "IPY_MODEL_e254d959c44949c086a601ca823d850d"
      }
     },
     "f65d1465b9424c00b9d53981431a42d7": {
      "model_module": "@jupyter-widgets/base",
      "model_module_version": "1.2.0",
      "model_name": "LayoutModel",
      "state": {}
     },
     "f766bd8f81ae4adf86d54ecc878ca216": {
      "model_module": "@jupyter-widgets/controls",
      "model_module_version": "1.5.0",
      "model_name": "TextModel",
      "state": {
       "description": "File name",
       "layout": "IPY_MODEL_80f6d5d782d145cda5693155a7f1f539",
       "style": "IPY_MODEL_6dc5c66c58534c02af099bbfdde200e1",
       "value": "2020-11-05-e-UCSF-axionplate"
      }
     },
     "f7705f187011451892e31d067d6e6dcc": {
      "model_module": "@jupyter-widgets/controls",
      "model_module_version": "1.5.0",
      "model_name": "ButtonModel",
      "state": {
       "icon": "arrow-left",
       "layout": "IPY_MODEL_671911a160ee455fafca78cbda62ba1e",
       "style": "IPY_MODEL_21e49364c9224ff0a5cbd1104995d60e"
      }
     },
     "f7b56838d233471b85474347ce8f4ddd": {
      "model_module": "@jupyter-widgets/controls",
      "model_module_version": "1.5.0",
      "model_name": "ButtonStyleModel",
      "state": {}
     },
     "f89f6933d5384396b80f5f93fd13c3da": {
      "model_module": "@jupyter-widgets/base",
      "model_module_version": "1.2.0",
      "model_name": "LayoutModel",
      "state": {}
     },
     "fa5a2a3893a74e8a9bd86b7e095f34b1": {
      "model_module": "@jupyter-widgets/controls",
      "model_module_version": "1.5.0",
      "model_name": "HBoxModel",
      "state": {
       "children": [
        "IPY_MODEL_c02ec50ed0674836a065200d1b95253c",
        "IPY_MODEL_0fe3ad47337a45409c6e53bf6ef42040"
       ],
       "layout": "IPY_MODEL_44aca5f160df404592360e12687feac2"
      }
     }
    },
    "version_major": 2,
    "version_minor": 0
   }
  }
 },
 "nbformat": 4,
 "nbformat_minor": 4
}
