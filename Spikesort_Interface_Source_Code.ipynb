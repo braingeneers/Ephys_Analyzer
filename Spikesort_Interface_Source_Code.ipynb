{
 "cells": [
  {
   "cell_type": "markdown",
   "id": "79945ac5",
   "metadata": {},
   "source": [
    "<font size=7>Spikesort Interface Source Code"
   ]
  },
  {
   "cell_type": "markdown",
   "id": "2b61e0b4",
   "metadata": {},
   "source": [
    "Welcome to the <font color='blue'>Spikesort Interface Source Code</font>! After uploading your data to this interface, choose a <font color='blue'>sorter</font> (Mountainsort, Spyking Circus)to do the spike sorting. After the <font color='blue'>spike sorting</font> is complete, the data can be analyzed from different graphs (e.g. Waveform, Spike Detection) on the interface. After every few times you run a cell on the interface,  remember to press the <font color='red'>clean button</font> and remove excess containers to clean the computer.\n",
    "\n"
   ]
  },
  {
   "cell_type": "markdown",
   "id": "94173948",
   "metadata": {},
   "source": [
    "# Command to Suppress Warning Messages\n"
   ]
  },
  {
   "cell_type": "markdown",
   "id": "36713fba",
   "metadata": {},
   "source": [
    "Run this code to hide <font color='red'>warning messages</font>."
   ]
  },
  {
   "cell_type": "code",
   "execution_count": null,
   "id": "8d1b0dfb",
   "metadata": {},
   "outputs": [],
   "source": [
    "import warnings\n",
    "warnings.filterwarnings(\"ignore\")"
   ]
  },
  {
   "cell_type": "markdown",
   "id": "dd2ceac2",
   "metadata": {},
   "source": [
    "# Import Packages"
   ]
  },
  {
   "cell_type": "markdown",
   "id": "93ca352f",
   "metadata": {},
   "source": [
    "The <font color='blue'> necessary packages </font>to run the <font color='blue'>main source code</font> file are imported here."
   ]
  },
  {
   "cell_type": "code",
   "execution_count": null,
   "id": "b884949a",
   "metadata": {},
   "outputs": [],
   "source": [
    "# import packages for spikesorting and visualizing\n",
    "import kachery as ka\n",
    "import matplotlib.pyplot as plt\n",
    "import os\n",
    "import subprocess\n",
    "import sys\n",
    "import numpy as np\n",
    "def install(package):\n",
    "    subprocess.check_call([sys.executable, \"-m\", \"pip\", \"install\", package])\n",
    "import hither_sf as hither\n",
    "from spikeforest2 import sorters\n",
    "import matplotlib\n",
    "import braingeneers.datasets_electrophysiology\n",
    "import spikeinterface.extractors as se #for mda conversion only\n",
    "import spiketoolkit as st\n",
    "import braingeneers\n",
    "import json\n",
    "import spikeforest2_utils\n",
    "from spikeforest2_utils import AutoRecordingExtractor, MdaRecordingExtractor\n",
    "import hither_sf as hither\n",
    "import io\n",
    "import sys\n",
    "spikeforest2_utils.__version__=1.0\n",
    "import ipywidgets as ipw\n",
    "import random\n",
    "import pandas as pd\n",
    "import plotly.express as px\n",
    "import plotly.graph_objects as go\n",
    "from braingeneers import datasets_electrophysiology as ephys\n",
    "from ipywidgets import interact, interactive, fixed, interact_manual\n",
    "import ipywidgets as widgets\n",
    "from IPython.core.display import HTML, display, Javascript, clear_output\n",
    "import pickle\n",
    "import spikeinterface.widgets as sw\n",
    "from ipywidgets import VBox\n",
    "spikeforest2_utils.__version__=1.0"
   ]
  },
  {
   "cell_type": "markdown",
   "id": "86277387",
   "metadata": {},
   "source": [
    "# Directories"
   ]
  },
  {
   "cell_type": "markdown",
   "id": "4b3f3209",
   "metadata": {},
   "source": [
    "The <font color='blue'>directories</font> needed for the main source code file are created here."
   ]
  },
  {
   "cell_type": "code",
   "execution_count": null,
   "id": "d861de16",
   "metadata": {},
   "outputs": [],
   "source": [
    "# Create directories for saving sorting output\n",
    "folders = !ls\n",
    "# Create directory for storing a sorting output if the directory does not exist\n",
    "if \"kach_dir_pi\" not in folders:\n",
    "    !mkdir kach_dir_pi\n",
    "    !touch kach_dir_pi/raw.mda\n",
    "current_dir = ! pwd\n",
    "# Create path to kach_dir to store sorting output\n",
    "kach_dir = current_dir[0] + \"/\"+\"kach_dir_pi\"+\"/\"\n"
   ]
  },
  {
   "cell_type": "markdown",
   "id": "94d01d57",
   "metadata": {},
   "source": [
    "# Objects"
   ]
  },
  {
   "cell_type": "markdown",
   "id": "47daa21c",
   "metadata": {},
   "source": [
    "The <font color='blue'>objects</font> needed for the <font color='blue'>main source code</font> file are created here."
   ]
  },
  {
   "cell_type": "code",
   "execution_count": null,
   "id": "4ce92730",
   "metadata": {},
   "outputs": [],
   "source": [
    "# Set the environmental variable that the spike interface uses\n",
    "fname = os.environ['KACHERY_STORAGE_DIR']=kach_dir\n",
    "fname\n"
   ]
  },
  {
   "cell_type": "code",
   "execution_count": null,
   "id": "dcbb4354",
   "metadata": {},
   "outputs": [],
   "source": [
    "# Create objects to save future output\n",
    "SpikeSorter = type('SpikeSorter', (object,), {})()"
   ]
  },
  {
   "cell_type": "markdown",
   "id": "98e22beb",
   "metadata": {},
   "source": [
    "# Import Data"
   ]
  },
  {
   "cell_type": "markdown",
   "id": "ebfbd9bb",
   "metadata": {},
   "source": [
    "Run this code to <font color='blue'>import the data</font>  onto the interface."
   ]
  },
  {
   "cell_type": "code",
   "execution_count": null,
   "id": "ba70b402",
   "metadata": {},
   "outputs": [],
   "source": [
    "# Command given to load the data onto the interface and store in the variables: Spike.X, Spike.t and Spike.fs\n",
    "#%run 'GetData'.ipynb\n",
    "#Spike = type('test', (object,), {})()\n",
    "#Spike.X, Spike.t, Spike.fs = ephys.load_blocks(\"2020-11-05-e-UCSF-axionplate\", 0, start=0, stop=None)"
   ]
  },
  {
   "cell_type": "markdown",
   "id": "8c8b2152",
   "metadata": {},
   "source": [
    "# Spikesorting"
   ]
  },
  {
   "cell_type": "markdown",
   "id": "2d567761",
   "metadata": {},
   "source": [
    "The  buttons for the <font color='blue'>sorters</font>, <font color='magenta'>Mountainsort</font> and <font color='magenta'>Spyking Circus</font>, are created. \n",
    "\n",
    "<font color='blue'>Click</font> one of the <font color='blue'>buttons</font> to run the <font color='blue'>sorter</font> on the data collected.\n",
    "\n",
    "The <font color='blue'>spike sorting</font> will identify <font color='blue'>clusters</font> in the <font color='blue'>waveforms</font> and judge whether they came from an individual <font color='blue'>neuron</font>"
   ]
  },
  {
   "cell_type": "code",
   "execution_count": null,
   "id": "bde35115",
   "metadata": {},
   "outputs": [],
   "source": [
    "# Creates the buttons for the MountainSort and Spyking Circus spikesorters\n",
    "SpikeSorter.spike_select_btn  = ipw.ToggleButtons(options=['MountainSort4', 'SpykingCircus'] )"
   ]
  },
  {
   "cell_type": "code",
   "execution_count": null,
   "id": "1a9b4a38",
   "metadata": {},
   "outputs": [],
   "source": [
    "# Creates the button to run the spikesort algorithms depending on the button selected\n",
    "SpikeSorter.run_btn  = ipw.Button( description=\"Run\",button_style='info', )\n",
    "#SpikeSorter.run_btn "
   ]
  },
  {
   "cell_type": "code",
   "execution_count": null,
   "id": "8ce83ab2",
   "metadata": {},
   "outputs": [],
   "source": [
    "# helper function\n",
    "def register_recording(*, fname,geom,recording, output_fname, label):\n",
    "            # Create kachery universal file pointer to raw data recording\n",
    "            raw_path = ka.store_file(fname  + 'raw.mda')\n",
    "            # Put raw data parameters and geometry into single recording object\n",
    "            obj = dict(\n",
    "                raw=raw_path,\n",
    "                params=ka.load_object(fname + 'params.json'),\n",
    "                geom=geom.tolist()\n",
    "            )\n",
    "            # Object field is created which stores the object recording\n",
    "            obj['self_reference'] = ka.store_object(obj, basename='{}.json'.format(label))\n",
    "            # Write recording object to file\n",
    "            with open(output_fname, 'w') as f: json.dump(obj, f, indent=4)\n",
    "            # Returns recording object\n",
    "            return obj['self_reference']"
   ]
  },
  {
   "cell_type": "code",
   "execution_count": null,
   "id": "79210a64",
   "metadata": {},
   "outputs": [],
   "source": [
    "# Main function:\n",
    "def Spikesort(b):\n",
    "    \n",
    "    global recording\n",
    "    global recording_path\n",
    "\n",
    "    \n",
    "    # Make dummie geometry for each channel at coordinate (0,0) TEMPORARY\n",
    "    # The geometry is the the 2-D coordinates of the recording channels\n",
    "    geom = np.zeros(((Spike.X.shape[1]),2))    # Maybe should be: np.zeros(((Spike.X.shape[0]),2))\n",
    "    # Transpose recording because spike extractor takes: number of channels * number of timepoints\n",
    "    X= Spike.X.T\n",
    "    # When each sample is taken, the time is obtained when the sample is recorded, and added to the list t.\n",
    "    # Each element of list t: sample # * (1/sampling frequency).\n",
    "    # EXAMPLE: When the sampling rate is 100 Hz, a recording is supposed to have a sample every 1/100th of a second. \n",
    "    # Therefore, the 120th sample of the recording is expected to occur after 1.2 seconds.\n",
    "    t = Spike.t\n",
    "    # Define fs as sampling frequency\n",
    "    fs = Spike.fs\n",
    "    \n",
    "    # Load recording from X time series and the geometry and the sampling frequency\n",
    "    recording=se.NumpyRecordingExtractor( timeseries=X, geom=geom, sampling_frequency=fs )\n",
    "    # Get path to recording object(a dictionary of the recording data, geometry, sampling frequency, and/or other parameters)\n",
    "    recording_path =  register_recording( recording=recording, geom=geom, fname=fname, output_fname=fname+'new_recording.json', label='new_recording')\n",
    "    \n",
    "    # If the MountainSort button is clicked, run the MountainSort algorithm\n",
    "    if SpikeSorter.spike_select_btn.value == 'MountainSort4':\n",
    "        with ka.config(fr='default_readonly'):\n",
    "            #\\th hither.config(cache='default_readwrite'):\n",
    "            # Use hither to open default container where sorting can be ran\n",
    "                # Give sorter recording object, destination file, and specify detect threshold\n",
    "                # Detect threshold: number of standard deviations away from rms noise level to detect spikes\n",
    "                with hither.config(container='default'):\n",
    "                    result = sorters.mountainsort4.run(\n",
    "                        recording_path=recording_path,\n",
    "                        sorting_out=hither.File(),\n",
    "                        detect_threshold=3\n",
    "                        )\n",
    "                    print(\"recording out path: \", recording_path)\n",
    "                    print(\"sorting out path: \",result.outputs.sorting_out)\n",
    "                    SpikeSorter.sorting_path = str(result.outputs.sorting_out)\n",
    "        print(result.outputs.sorting_out)\n",
    "    # If the Spyking Circus button is clicked, run the Spyking Circus algorithm\n",
    "    elif SpikeSorter.spike_select_btn.value == 'SpykingCircus':\n",
    "        with ka.config(fr='default_readonly'):\n",
    "            #with hither.config(cache='default_readwrite'):\n",
    "            # Give sorter recording object, destination file, and specify detect threshold\n",
    "            # Detect threshold: number of standard deviations away from rms noise level to detect spikes\n",
    "                with hither.config(container='default'):\n",
    "                    result = sorters.spykingcircus.run(\n",
    "                            recording_path=recording_path,\n",
    "                            sorting_out=hither.File(),\n",
    "                            detect_threshold=3\n",
    "                            )\n",
    "                    print(\"recording out path: \", recording_path)\n",
    "                    print(\"sorting out path: \",result.outputs.sorting_out)\n",
    "                    SpikeSorter.sorting_path = str(result.outputs.sorting_out)\n",
    "        print(result.outputs.sorting_out)\n",
    "    # If neither button is selected, request that button is clicked\n",
    "    else:\n",
    "        print ('Please select one of the sorting buttons')\n",
    "    \n",
    "    print(\"finished\")\n"
   ]
  },
  {
   "cell_type": "code",
   "execution_count": null,
   "id": "b0246245",
   "metadata": {},
   "outputs": [],
   "source": [
    "#Assign function to button\n",
    "SpikeSorter.run_btn.on_click(Spikesort)"
   ]
  },
  {
   "cell_type": "code",
   "execution_count": null,
   "id": "f7107d72",
   "metadata": {},
   "outputs": [],
   "source": [
    "# A widget box displays the MoutainSort4 and SpykingCircus buttons\n",
    "# Depending on the button selected, a spikesorting algorithm will run\n",
    "SpikeSorter.Spike_Widget_Box = VBox([VBox([SpikeSorter.spike_select_btn,SpikeSorter.run_btn ])])\n",
    "SpikeSorter.Spike_Widget_Box"
   ]
  },
  {
   "cell_type": "markdown",
   "id": "04e6124e",
   "metadata": {},
   "source": [
    "# Graphs"
   ]
  },
  {
   "cell_type": "markdown",
   "id": "5946a46b",
   "metadata": {},
   "source": [
    "<font color='red'> THIS STEP CAN BE DONE AFTER THE SORTING </font>"
   ]
  },
  {
   "cell_type": "markdown",
   "id": "301cd183",
   "metadata": {},
   "source": [
    "The <font color=\"blue\">buttons</font> for the graphs are created. "
   ]
  },
  {
   "cell_type": "markdown",
   "id": "47589964",
   "metadata": {},
   "source": [
    "<font color='blue'> Run both cells </font> and then <font color='blue'> select a button </font> for the type of graph you would like to see:\n",
    "\n",
    "<font color='magenta'> w_ts </font> = timeseries of the channels over the recording time\n",
    "\n",
    "<font color='magenta'> w_sp </font> = spectral power density of the channels\n",
    "\n",
    "<font color='magenta'> w_rs </font> = spike rasters (firing over time of each putative neuron)\n",
    "\n",
    "<font color='magenta'> w_isi </font> = distribution of each neuron's firing rate\n",
    "\n",
    "<font color='magenta'> w_ach </font> = one neuron's firing rate compared to itself (autocorrelation chart)\n",
    "\n",
    "<font color='magenta'> w_cch </font> = shows correlation between neurons\n",
    "\n",
    "<font color='magenta'> w_wf </font> = average waveform of each neuron's action potential\n",
    "\n",
    "<font color='magenta'> w_ampd </font> = amplitude distribution of each neuron's action potential\n",
    "\n",
    "<font color='magenta'> w_ampt </font> = amplitude time series shows amplitude of a neuron's firing over time"
   ]
  },
  {
   "cell_type": "markdown",
   "id": "02de73f3",
   "metadata": {},
   "source": [
    " If you want to see the <font color=\"magenta\">time series graph</font>, click one of the other <font color=\"blue\">buttons</font>, then hit the time series button."
   ]
  },
  {
   "cell_type": "markdown",
   "id": "f4c7f873",
   "metadata": {},
   "source": [
    "<b><font color=\"red\">To do</font></b>\n",
    "* Create function that saves output if the experiment was run previously to load the sorting automatically\n",
    "  Link for github: https://github.com/SpikeInterface/spikeextractors/blob/master/spikeextractors/extractors/mdaextractors/mdaextractors.py"
   ]
  },
  {
   "cell_type": "code",
   "execution_count": null,
   "id": "906e4bb7",
   "metadata": {},
   "outputs": [],
   "source": [
    "# Creates buttons to display the graphs: w_ts, w_sp, w_rs, w_isi, w_ach, w_cch, w_wf, w_ampd, w_ampt\n",
    "# waveforms\n",
    "Graph_Button = ipw.ToggleButtons(options=['time series','spectral power','spike rasters','interspike intervals','autocorrelation','cross-correlation', 'amplitude distribution','amplitude time series'] ) \n",
    "Graph_Button"
   ]
  },
  {
   "cell_type": "code",
   "execution_count": null,
   "id": "a96ae1f5",
   "metadata": {},
   "outputs": [],
   "source": [
    "from spikeforest2_utils import AutoRecordingExtractor, AutoSortingExtractor\n",
    "from IPython.display import display, clear_output\n",
    "\n",
    "def Graphs(change):\n",
    "    \n",
    "    clear_output()\n",
    "    display(Graph_Button)\n",
    "    \n",
    "    # Arpitha Describe what this does\n",
    "    global sorting_true\n",
    "    # The sorting path is too long and has extraneous characters\n",
    "    # Trim extraneous characters to load local sorting\n",
    "    sorting_out_short = SpikeSorter.sorting_path[12:-1]\n",
    "    # Get path(universal kachery path) to stored sorting object\n",
    "    universal_sorting_path = ka.store_file(sorting_out_short)\n",
    "    # Load recording object from recording path\n",
    "    recording = AutoRecordingExtractor(recording_path, download=False)\n",
    "    # Load sorting object from sorting path\n",
    "    sorting_true = AutoSortingExtractor(universal_sorting_path)\n",
    "    \n",
    "    # Make graph based on user selection\n",
    "    if Graph_Button.value == 'time series':\n",
    "        print('Timeseries of the channels over the recording time')\n",
    "        w_ts_btn = sw.plot_timeseries(recording)\n",
    "        plt.show()\n",
    "   \n",
    "    elif Graph_Button.value == 'spectral power':\n",
    "        print('Spectral power density of the channels')\n",
    "        w_sp_btn = sw.plot_spectrum(recording)\n",
    "        plt.show()\n",
    "    \n",
    "    elif Graph_Button.value == 'spike rasters':\n",
    "        print('Spike rasters : firing over time of each putative neuron')\n",
    "        w_rs_btn = sw.plot_rasters(sorting_true, sampling_frequency=Spike.fs)\n",
    "        plt.show()\n",
    "        \n",
    "    elif Graph_Button.value == 'interspike intervals':\n",
    "        print('Distribution of each neurons firing rate')\n",
    "        w_isi_btn = sw.plot_isi_distribution(sorting_true, sampling_frequency=Spike.fs, bins=10, window=1)\n",
    "        plt.show()\n",
    "        \n",
    "    elif Graph_Button.value == 'autocorrelation':\n",
    "        print('One neurons firing rate compared to itself (autocorrelation chart)')\n",
    "        w_ach_btn = sw.plot_autocorrelograms(sorting_true, sampling_frequency=Spike.fs, bin_size=1, window=10, unit_ids=[1, 2, 4, 5, 8, 10, 7])\n",
    "        plt.show()\n",
    "        \n",
    "    elif Graph_Button.value == 'cross-correlation':\n",
    "        print('Shows correlation between neurons')\n",
    "        w_cch_btn = sw.plot_crosscorrelograms(sorting_true, sampling_frequency=Spike.fs, unit_ids=[1, 5, 8], bin_size=0.1, window=5)\n",
    "        plt.show()\n",
    "        \n",
    "    elif Graph_Button.value == 'waveforms':\n",
    "        print('Average waveform of each neuron action potential')\n",
    "        w_wf_btn = sw.plot_unit_waveforms(recording, sorting_true,unit_ids=sorting_true.get_unit_ids(),  max_spikes_per_unit=100)\n",
    "        plt.show()\n",
    "        \n",
    "    elif Graph_Button.value == 'amplitude distribution':\n",
    "        print('Amplitude distribution of each neurons action potential')\n",
    "        w_ampd_btn = sw.plot_amplitudes_distribution(recording, sorting_true, max_spikes_per_unit=300)\n",
    "        plt.show() \n",
    "    \n",
    "    elif Graph_Button.value == 'amplitude time series':\n",
    "        print('Amplitude time series shows amplitude of a neurons firing over time')\n",
    "        w_ampt_btn = sw.plot_amplitudes_timeseries(recording, sorting_true, max_spikes_per_unit=300)\n",
    "        plt.show()\n",
    "        \n",
    "    else:\n",
    "        print ('Please select one of the sorting buttons')\n",
    "        \n",
    "Graph_Button.observe( Graphs , names = 'value') \n"
   ]
  },
  {
   "cell_type": "markdown",
   "id": "7035c20c",
   "metadata": {},
   "source": [
    "# Waveforms"
   ]
  },
  {
   "cell_type": "markdown",
   "id": "d5d10c62",
   "metadata": {},
   "source": [
    "<font color='red'> THIS STEP CAN BE DONE AFTER THE SORTING </font>"
   ]
  },
  {
   "cell_type": "markdown",
   "id": "ad7e72d5",
   "metadata": {},
   "source": [
    "The <font color='magenta'>Waveform graphs</font> are the <font color='blue'>average waveforms</font> of a <font color='blue'>putative action potential</font>. Each graph represents one <font color='blue'>putative neuron</font>, and the <font color='blue'>average signal</font> from each time the neuron fired. Each horizontal line represents the <font color='blue'>voltage</font> measured at a <font color='blue'>distinct channel</font>."
   ]
  },
  {
   "cell_type": "markdown",
   "id": "a71bf474",
   "metadata": {},
   "source": [
    "<font color='blue'>Run the 2 cells</font> below and <font color='blue'>select the button</font> to get a slider. Move the <font color='blue'>slider</font> to select a unit of data to analyze the <font color='blue'>waveform</font> of. Then, click the <font color='blue'>plot button</font> to generate a <font color='magenta'>waveform graph</font> for a particular unit of data."
   ]
  },
  {
   "cell_type": "code",
   "execution_count": null,
   "id": "c9b3bbb4",
   "metadata": {},
   "outputs": [],
   "source": [
    "# create a start button to generate the slider\n",
    "wave_btn_start= ipw.Button(description=\"Start\")\n",
    "wave_btn_start"
   ]
  },
  {
   "cell_type": "code",
   "execution_count": null,
   "id": "fca0574a",
   "metadata": {},
   "outputs": [],
   "source": [
    "def start_wave(b):\n",
    "    # clears the output from the previous result\n",
    "    clear_output()\n",
    "    wave_ids= sorting_true.get_unit_ids()\n",
    "    # creates a slider that will be displayed once the start button is clicked\n",
    "    wave_slider= ipw.IntSlider( value=wave_ids[0], min=wave_ids[0], max=wave_ids[-1] )\n",
    "    display(wave_slider)\n",
    "    \n",
    "    # create a button to plot the waveform\n",
    "    wave_btn_plot = ipw.Button( description=\"Plot\" ) \n",
    "    # display the button\n",
    "    display(wave_btn_plot)\n",
    "    def wave_plot_func(b):\n",
    "        # plot the waveform\n",
    "        sw.plot_unit_waveforms(recording, sorting_true,unit_ids=[wave_slider.value],  max_spikes_per_unit=100)\n",
    "    wave_btn_plot.on_click(wave_plot_func) \n",
    "    \n",
    "# enable the start_wave button to be clicked\n",
    "wave_btn_start.on_click(start_wave)"
   ]
  },
  {
   "cell_type": "markdown",
   "id": "016382ad",
   "metadata": {},
   "source": [
    "# Spike Detection Graphs"
   ]
  },
  {
   "cell_type": "markdown",
   "id": "e68b2db0",
   "metadata": {},
   "source": [
    "<font color='red'> THIS STEP CAN BE DONE AFTER THE SORTING </font>"
   ]
  },
  {
   "cell_type": "markdown",
   "id": "d5c71285",
   "metadata": {},
   "source": [
    "<font color='magenta'>Spike detection graphs</font> are the <font color='blue'>waveforms</font> for each channel plotted to look for spikes across all the <font color='blue'>channels</font>"
   ]
  },
  {
   "cell_type": "markdown",
   "id": "1cf75f27",
   "metadata": {},
   "source": [
    "<font color='blue'>Run the 2 cells</font> below and <font color='blue'>select the button</font> to see the <font color='magenta'>spike detection graphs</font> of the data collected."
   ]
  },
  {
   "cell_type": "code",
   "execution_count": null,
   "id": "bccfbd6a",
   "metadata": {},
   "outputs": [],
   "source": [
    "# Create a Spike Detection button\n",
    "Spike_Detection_Button = ipw.Button(description=\"Spike Detection\",button_style='info',)\n",
    "Spike_Detection_Button"
   ]
  },
  {
   "cell_type": "code",
   "execution_count": null,
   "id": "23af5da2",
   "metadata": {},
   "outputs": [],
   "source": [
    "# Make comments on this block of code with Nico\n",
    "from spiketoolkit import postprocessing as pp\n",
    "\n",
    "def SpikeDetection(b):\n",
    "    \n",
    "    wav = pp.get_unit_waveforms(recording, sorting_true,unit_ids=sorting_true.get_unit_ids(), ms_before=1, ms_after=2, recompute_info=True, save_property_or_features=False)\n",
    "    \n",
    "    units=wav[0].shape[1] #0 indexed\n",
    "    n_channels=1 #0 indexed?\n",
    "    n_timepoints=wav[0].shape[2] #all\n",
    "\n",
    "    try: # Not as many units as other channels since it may cause unnecessary \n",
    "         # errors. Avoiding error messages with try and except.\n",
    "        for this_unit in sorting_true.get_unit_ids():\n",
    "            for this_chan in range(0,n_channels): \n",
    "                average = wav[this_unit][0][this_chan] * 0\n",
    "                for thing in range(0,n_timepoints): #plot all occurences of unit n_spikes\n",
    "                    fig = plt.plot(wav[this_unit][thing][this_chan],'gray')\n",
    "                    average = average + wav[this_unit][thing][this_chan]\n",
    "                    the_title=\"Spike Detection on Unit ,\"+str(this_unit)+\", channel \"+str(this_chan)\n",
    "                    plt.xlabel('3 milliseconds total')\n",
    "                    plt.ylabel('microvolts')\n",
    "                    plt.title(the_title)\n",
    "                plt.plot(average/n_timepoints)\n",
    "                plt.show()\n",
    "    except:\n",
    "        pass\n",
    "\n",
    "# Assign function to button\n",
    "Spike_Detection_Button.on_click(SpikeDetection)\n"
   ]
  },
  {
   "cell_type": "markdown",
   "id": "13491175",
   "metadata": {},
   "source": [
    "# Remove Containers"
   ]
  },
  {
   "cell_type": "markdown",
   "id": "dfb8db8b",
   "metadata": {},
   "source": [
    "<font color=\"red\">THIS IS A REALLY IMPORTANT STEP</font>"
   ]
  },
  {
   "cell_type": "markdown",
   "id": "b6493f2a",
   "metadata": {},
   "source": [
    "The <font color=\"blue\"> clean button</font> has been created."
   ]
  },
  {
   "cell_type": "markdown",
   "id": "17092683",
   "metadata": {},
   "source": [
    "To do <font color=\"blue\">spikesorting</font> we use docker. <font color=\"blue\">Docker</font> takes up considerable <font color=\"blue\">computer memory</font>  because it creates <font color=\"blue\">containers</font> to run the <font color=\"magenta\">spikesorters</font>."
   ]
  },
  {
   "cell_type": "markdown",
   "id": "8866da76",
   "metadata": {},
   "source": [
    "<font color='blue'>Run the 2 cells</font> and <font color='blue'>select the button</font> to <font color='blue'>remove containers</font> and clean the computer."
   ]
  },
  {
   "cell_type": "code",
   "execution_count": null,
   "id": "eef01649",
   "metadata": {},
   "outputs": [],
   "source": [
    "# Creates a button to remove containers\n",
    "Clean_Button = ipw.Button( description=\"CLEAN\",button_style='danger', )\n",
    "Clean_Button"
   ]
  },
  {
   "cell_type": "code",
   "execution_count": null,
   "id": "a23bf27b",
   "metadata": {},
   "outputs": [],
   "source": [
    "def Clean(b):\n",
    "    # Code to clean the containers\n",
    "    !sudo docker ps -a | grep Exit | cut -d ' ' -f 1 | xargs sudo docker rm\n",
    "    print(\"Computer has been cleaned\")\n",
    "# Assign function to button\n",
    "Clean_Button.on_click(Clean)"
   ]
  },
  {
   "cell_type": "code",
   "execution_count": null,
   "id": "25ce05b6",
   "metadata": {},
   "outputs": [],
   "source": []
  }
 ],
 "metadata": {
  "hide_input": false,
  "kernelspec": {
   "display_name": "Python 3",
   "language": "python",
   "name": "python3"
  },
  "language_info": {
   "codemirror_mode": {
    "name": "ipython",
    "version": 3
   },
   "file_extension": ".py",
   "mimetype": "text/x-python",
   "name": "python",
   "nbconvert_exporter": "python",
   "pygments_lexer": "ipython3",
   "version": "3.8.8"
  },
  "toc": {
   "base_numbering": 1,
   "nav_menu": {},
   "number_sections": true,
   "sideBar": true,
   "skip_h1_title": false,
   "title_cell": "Table of Contents",
   "title_sidebar": "Contents",
   "toc_cell": false,
   "toc_position": {},
   "toc_section_display": true,
   "toc_window_display": false
  }
 },
 "nbformat": 4,
 "nbformat_minor": 5
}
